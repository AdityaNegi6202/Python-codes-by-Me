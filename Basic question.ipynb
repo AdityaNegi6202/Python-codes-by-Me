{
 "cells": [
  {
   "cell_type": "markdown",
   "id": "015110eb",
   "metadata": {},
   "source": [
    "1. Write a program for the addition of Two numbers."
   ]
  },
  {
   "cell_type": "code",
   "execution_count": 2,
   "id": "41728ee6",
   "metadata": {},
   "outputs": [
    {
     "name": "stdout",
     "output_type": "stream",
     "text": [
      "Enter first number :5\n",
      "Enter second number :6\n",
      "11\n"
     ]
    }
   ],
   "source": [
    "a = int(input(\"Enter first number :\"))\n",
    "b = int(input(\"Enter second number :\"))\n",
    "c = a + b\n",
    "print(c)"
   ]
  },
  {
   "cell_type": "markdown",
   "id": "b6ec1471",
   "metadata": {},
   "source": [
    "2. Write a program to read two numbers and print their quotient and remainder."
   ]
  },
  {
   "cell_type": "code",
   "execution_count": 3,
   "id": "a1617398",
   "metadata": {},
   "outputs": [
    {
     "name": "stdout",
     "output_type": "stream",
     "text": [
      "Enter first number : 5\n",
      "Enter second number : 2\n",
      "Quotient =  2.0\n",
      "Remainder =  1.0\n"
     ]
    }
   ],
   "source": [
    "a = float(input(\"Enter first number : \"))\n",
    "b = float(input(\"Enter second number : \"))\n",
    "q = a//b\n",
    "r = a%b\n",
    "print(\"Quotient = \",q)\n",
    "print(\"Remainder = \",r)"
   ]
  },
  {
   "cell_type": "markdown",
   "id": "2631eb81",
   "metadata": {},
   "source": [
    "3. Write a program to find the average of three numbers."
   ]
  },
  {
   "cell_type": "code",
   "execution_count": 5,
   "id": "cd35ef83",
   "metadata": {},
   "outputs": [
    {
     "name": "stdout",
     "output_type": "stream",
     "text": [
      "Enter the first number : 1\n",
      "Enter the second  number : 2\n",
      "Enter the third number : 3\n",
      "The average of the number  1.0 , 2.0  and  3.0  is  1.6666666666666667\n"
     ]
    }
   ],
   "source": [
    "n1 = float(input(\"Enter the first number : \"))\n",
    "n2 = float(input(\"Enter the second  number : \"))\n",
    "n3 = float(input(\"Enter the third number : \"))\n",
    "print(\"The average of the number \",n1,',',n2,\" and \",n3,\" is \",(n1+n1+n3)/3)"
   ]
  },
  {
   "cell_type": "markdown",
   "id": "120143cf",
   "metadata": {},
   "source": [
    "4. Write a program to calculate sum of 5 subjects and find percentage (Max Mark in each subject is 100)."
   ]
  },
  {
   "cell_type": "code",
   "execution_count": 6,
   "id": "ef998d6b",
   "metadata": {},
   "outputs": [
    {
     "name": "stdout",
     "output_type": "stream",
     "text": [
      "Enter marks of 1st subject : 89\n",
      "Enter marks of 2nd subject : 76\n",
      "Enter marks of 3rd subject : 93\n",
      "Enter marks of 4th subject : 93\n",
      "Enter marks of 5th subject : 90\n",
      "Your percentage is =  88.2\n"
     ]
    }
   ],
   "source": [
    "s1 = int(input(\"Enter marks of 1st subject : \"))\n",
    "s2 = int(input(\"Enter marks of 2nd subject : \"))\n",
    "s3 = int(input(\"Enter marks of 3rd subject : \"))\n",
    "s4 = int(input(\"Enter marks of 4th subject : \"))\n",
    "s5 = int(input(\"Enter marks of 5th subject : \"))\n",
    "p = ((s1+s2+s3+s4+s5)/500)*100\n",
    "print(\"Your percentage is = \",p)\n"
   ]
  },
  {
   "cell_type": "markdown",
   "id": "8ebc7446",
   "metadata": {},
   "source": [
    "6. Write a program to calculate Area of Circle."
   ]
  },
  {
   "cell_type": "code",
   "execution_count": 10,
   "id": "5679f2eb",
   "metadata": {},
   "outputs": [
    {
     "name": "stdout",
     "output_type": "stream",
     "text": [
      "Enter the radius (in cm) : 5\n",
      "The area of circle with radius  5.0  is  78.5  sq cm.\n"
     ]
    }
   ],
   "source": [
    "r = float(input(\"Enter the radius (in cm) : \"))\n",
    "area = 3.14 * r * r \n",
    "print(\"The area of circle with radius \",r,\" is \", area,\" sq cm.\")"
   ]
  },
  {
   "cell_type": "markdown",
   "id": "cb50be43",
   "metadata": {},
   "source": [
    "7. Write a program to calculate the area of rectangle."
   ]
  },
  {
   "cell_type": "code",
   "execution_count": 11,
   "id": "1cb05866",
   "metadata": {},
   "outputs": [
    {
     "name": "stdout",
     "output_type": "stream",
     "text": [
      "Enter the length of the rectangle (in meters) : 5\n",
      "Enter the breadth of the rectangle (in meters) : 6\n",
      "The area of the rectangle is  30.0  sq m \n"
     ]
    }
   ],
   "source": [
    "l = float(input(\"Enter the length of the rectangle (in meters) : \"))\n",
    "b = float(input(\"Enter the breadth of the rectangle (in meters) : \"))\n",
    "print(\"The area of the rectangle is \",l*b,\" sq m \")"
   ]
  },
  {
   "cell_type": "markdown",
   "id": "93bc8c63",
   "metadata": {},
   "source": [
    "8. Write a program to calculate area of square."
   ]
  },
  {
   "cell_type": "code",
   "execution_count": 12,
   "id": "0a8c36a1",
   "metadata": {},
   "outputs": [
    {
     "name": "stdout",
     "output_type": "stream",
     "text": [
      "Enter the length of the side (in meters) : 5\n",
      "The area of the square is  25.0  sq m \n"
     ]
    }
   ],
   "source": [
    "l = float(input(\"Enter the length of the side (in meters) : \"))\n",
    "print(\"The area of the square is \",l*l,\" sq m \")"
   ]
  },
  {
   "cell_type": "markdown",
   "id": "550b659b",
   "metadata": {},
   "source": [
    "9. Write a program calculate area and circumference of a circle."
   ]
  },
  {
   "cell_type": "code",
   "execution_count": 13,
   "id": "269339b3",
   "metadata": {},
   "outputs": [
    {
     "name": "stdout",
     "output_type": "stream",
     "text": [
      "Enter the radius (in cm) : 5\n",
      "The area of circle with radius  5.0  is  78.5  sq cm.\n",
      "The circumference of circle with radius  5.0  is  31.400000000000002  cm.\n"
     ]
    }
   ],
   "source": [
    "r = float(input(\"Enter the radius (in cm) : \"))\n",
    "area = 3.14 * r * r \n",
    "circ = 2 * 3.14 * r\n",
    "print(\"The area of circle with radius \",r,\" is \", area,\" sq cm.\")\n",
    "print(\"The circumference of circle with radius \",r,\" is \", circ ,\" cm.\")\n"
   ]
  },
  {
   "cell_type": "markdown",
   "id": "04c75c56",
   "metadata": {},
   "source": [
    "10. Write a program to calculate the area of the scalene triangle."
   ]
  },
  {
   "cell_type": "code",
   "execution_count": 27,
   "id": "5b251a19",
   "metadata": {},
   "outputs": [
    {
     "name": "stdout",
     "output_type": "stream",
     "text": [
      "Enter the value of first side : 5\n",
      "Enter the value of second side : 4\n",
      "Enter the value of third side : 3\n",
      "The area of scalene triangle is :  6.0\n"
     ]
    }
   ],
   "source": [
    "a = int(input(\"Enter the value of first side : \"))\n",
    "b = int(input(\"Enter the value of second side : \"))\n",
    "c = int(input(\"Enter the value of third side : \"))\n",
    "s = (a + b + c)/ 2 #semi-perimeter\n",
    "area = ( s*(s-a)*(s-b)*(s-c) )**0.5\n",
    "print(\"The area of scalene triangle is : \",area)"
   ]
  },
  {
   "cell_type": "markdown",
   "id": "b0275115",
   "metadata": {},
   "source": [
    "11. Write a program to find the area of Right angled triangle."
   ]
  },
  {
   "cell_type": "code",
   "execution_count": 29,
   "id": "6822923b",
   "metadata": {},
   "outputs": [
    {
     "name": "stdout",
     "output_type": "stream",
     "text": [
      "Enter the value of height : 4\n",
      "Enter the base length : 3\n",
      "Area =  6.0\n"
     ]
    }
   ],
   "source": [
    "a = int(input(\"Enter the value of height : \"))\n",
    "b = int(input(\"Enter the base length : \"))\n",
    "print(\"Area = \", 0.5*a*b)"
   ]
  },
  {
   "cell_type": "markdown",
   "id": "837c538e",
   "metadata": {},
   "source": [
    "12. Write a program to calculate the area of trapezium."
   ]
  },
  {
   "cell_type": "code",
   "execution_count": 30,
   "id": "b53bbdd5",
   "metadata": {},
   "outputs": [
    {
     "name": "stdout",
     "output_type": "stream",
     "text": [
      "Enter the distance between the parallel sides : 5\n",
      "Length of short side : 8\n",
      "Length of long side : 5\n",
      "Area of trapezium :  32.5\n"
     ]
    }
   ],
   "source": [
    "h = int(input(\"Enter the distance between the parallel sides : \"))\n",
    "ls = int(input(\"Length of short side : \"))\n",
    "ll = int(input(\"Length of long side : \"))\n",
    "area = (h * (ls + ll))/2\n",
    "print(\"Area of trapezium : \",area )"
   ]
  },
  {
   "cell_type": "markdown",
   "id": "55fcf735",
   "metadata": {},
   "source": [
    "13. Write a program to find the area of rhombus."
   ]
  },
  {
   "cell_type": "code",
   "execution_count": 32,
   "id": "4a826127",
   "metadata": {},
   "outputs": [
    {
     "name": "stdout",
     "output_type": "stream",
     "text": [
      "Base length : 5\n",
      "Height lenght : 5\n",
      "Area of Rhombus =  25\n"
     ]
    }
   ],
   "source": [
    "b = int(input(\"Base length : \"))\n",
    "h = int(input(\"Height lenght : \"))\n",
    "print(\"Area of Rhombus = \",b*h)"
   ]
  },
  {
   "cell_type": "markdown",
   "id": "a4b74d52",
   "metadata": {},
   "source": [
    "14. Write a program to find the area of parallelogram."
   ]
  },
  {
   "cell_type": "code",
   "execution_count": 33,
   "id": "1525189c",
   "metadata": {},
   "outputs": [
    {
     "name": "stdout",
     "output_type": "stream",
     "text": [
      "Base length : 6\n",
      "Height lenght : 8\n",
      "Area of Parallelogram =  48\n"
     ]
    }
   ],
   "source": [
    "b = int(input(\"Base length : \"))\n",
    "h = int(input(\"Height lenght : \"))\n",
    "print(\"Area of Parallelogram = \",b*h)"
   ]
  },
  {
   "cell_type": "markdown",
   "id": "afb82dd6",
   "metadata": {},
   "source": [
    "15. Write a program to find the volume and surface area of cube."
   ]
  },
  {
   "cell_type": "code",
   "execution_count": 34,
   "id": "c66bdf55",
   "metadata": {},
   "outputs": [
    {
     "name": "stdout",
     "output_type": "stream",
     "text": [
      "Enter the side of the cube : 5\n",
      "Surface area of the cube :  150\n",
      "Volume of cube :  125\n"
     ]
    }
   ],
   "source": [
    "a = int(input(\"Enter the side of the cube : \"))\n",
    "v = a*a*a\n",
    "sa = 6*a*a\n",
    "print(\"Surface area of the cube : \",sa)\n",
    "print(\"Volume of cube : \",v)"
   ]
  },
  {
   "cell_type": "markdown",
   "id": "fd97207c",
   "metadata": {},
   "source": [
    "16. Write a program to find the volume and surface area of cuboids."
   ]
  },
  {
   "cell_type": "code",
   "execution_count": 36,
   "id": "c0715305",
   "metadata": {},
   "outputs": [
    {
     "name": "stdout",
     "output_type": "stream",
     "text": [
      "Enter the length : 5\n",
      "Enter the breadth : 5\n",
      "Enter the height: 5\n",
      "Surface area of the cuboid :  150\n",
      "Volume of cuboid :  125\n"
     ]
    }
   ],
   "source": [
    "l = int(input(\"Enter the length : \"))\n",
    "b = int(input(\"Enter the breadth : \"))\n",
    "h = int(input(\"Enter the height: \"))\n",
    "v = l*b*h\n",
    "sa = 2*((l*b)+(b*h)+(l*h))\n",
    "print(\"Surface area of the cuboid : \",sa)\n",
    "print(\"Volume of cuboid : \",v)"
   ]
  },
  {
   "cell_type": "markdown",
   "id": "f24e0175",
   "metadata": {},
   "source": [
    "17. Write a program to find the volume and surface area of cylinder.\n"
   ]
  },
  {
   "cell_type": "code",
   "execution_count": 37,
   "id": "a30aa481",
   "metadata": {},
   "outputs": [
    {
     "name": "stdout",
     "output_type": "stream",
     "text": [
      "Enter the radius of cylinder : 5\n",
      "Enter the height : 14\n",
      "Surface area =  596.6\n",
      "Volume =  1099.0\n"
     ]
    }
   ],
   "source": [
    "r = int(input(\"Enter the radius of cylinder : \"))\n",
    "h = int(input(\"Enter the height : \"))\n",
    "sa = 2*3.14*r*(r + h)\n",
    "v = 3.14*r*r*h\n",
    "print(\"Surface area = \",sa)\n",
    "print(\"Volume = \",v)"
   ]
  },
  {
   "cell_type": "raw",
   "id": "6c47df24",
   "metadata": {},
   "source": [
    "18. Write a program to find the volume and surface area of cone."
   ]
  },
  {
   "cell_type": "code",
   "execution_count": 39,
   "id": "444e5a6b",
   "metadata": {},
   "outputs": [
    {
     "name": "stdout",
     "output_type": "stream",
     "text": [
      "Enter the radius : 6\n",
      "Enter the height from the base : 5\n",
      "Surface area of cone =  298.5924809858386\n",
      "Volume of cone =  188.39999999999998\n"
     ]
    }
   ],
   "source": [
    "r = int(input(\"Enter the radius : \"))\n",
    "h = int(input(\"Enter the height from the base : \"))\n",
    "v = (3.14*r*r*h)/3\n",
    "l = ((r**2) + (l**2))**0.5\n",
    "sa = 3.14*r*(r+l)\n",
    "print(\"Surface area of cone = \",sa)\n",
    "print(\"Volume of cone = \",v)\n"
   ]
  },
  {
   "cell_type": "markdown",
   "id": "7c039eb9",
   "metadata": {},
   "source": [
    "19. Write a program to find the volume and surface area of sphere."
   ]
  },
  {
   "cell_type": "code",
   "execution_count": 40,
   "id": "b9b89c3f",
   "metadata": {},
   "outputs": [
    {
     "name": "stdout",
     "output_type": "stream",
     "text": [
      "Enter the radius of sphere : 6\n",
      "Volume of sphere =  904.32\n",
      "Surface area of sphere =  452.15999999999997\n"
     ]
    }
   ],
   "source": [
    "r = int(input(\"Enter the radius of sphere : \"))\n",
    "sa = 4*3.14*r*r\n",
    "v = (4*3.14*r*r*r)/3\n",
    "print(\"Volume of sphere = \",v)\n",
    "print(\"Surface area of sphere = \",sa)"
   ]
  },
  {
   "cell_type": "markdown",
   "id": "c2095293",
   "metadata": {},
   "source": [
    "20. Write a program to calculate the perimeter of a circle, rectangle, and triangle."
   ]
  },
  {
   "cell_type": "code",
   "execution_count": 41,
   "id": "b0400795",
   "metadata": {},
   "outputs": [
    {
     "name": "stdout",
     "output_type": "stream",
     "text": [
      "Enter the radius of circle : 5\n",
      "Enter the length of rectangle : 5\n",
      "Enter the breadth of rectangle : 5\n",
      "Enter side 1 of triangle : 5\n",
      "Enter side 2 of triangle : 5\n",
      "Enter side 3 of triangle : 5\n",
      "Perimeter of circle =  31.400000000000002\n",
      "Perimeter of rectangle =  20\n",
      "Perimeter of triangle =  15\n"
     ]
    }
   ],
   "source": [
    "r = int(input(\"Enter the radius of circle : \"))\n",
    "l = int(input(\"Enter the length of rectangle : \"))\n",
    "b = int(input(\"Enter the breadth of rectangle : \"))\n",
    "t1 = int(input(\"Enter side 1 of triangle : \"))\n",
    "t2 = int(input(\"Enter side 2 of triangle : \"))\n",
    "t3 = int(input(\"Enter side 3 of triangle : \"))\n",
    "print(\"Perimeter of circle = \",2*3.14*r)\n",
    "print(\"Perimeter of rectangle = \",2*(l+b))\n",
    "print(\"Perimeter of triangle = \",t1 + t2 + t3)"
   ]
  },
  {
   "cell_type": "markdown",
   "id": "3c871331",
   "metadata": {},
   "source": [
    "21. Write a program to compute simple interest."
   ]
  },
  {
   "cell_type": "code",
   "execution_count": 42,
   "id": "6fbd6002",
   "metadata": {},
   "outputs": [
    {
     "name": "stdout",
     "output_type": "stream",
     "text": [
      "Principal amount : 5000\n",
      "Rate of interest : 3\n",
      "Time : 5\n",
      "Simple interest =  750.0\n"
     ]
    }
   ],
   "source": [
    "p = int(input(\"Principal amount : \"))\n",
    "r = int(input(\"Rate of interest : \"))\n",
    "t = int(input(\"Time : \"))\n",
    "si = (p*r*t)/100\n",
    "print(\"Simple interest = \",si)"
   ]
  },
  {
   "cell_type": "markdown",
   "id": "e1e461d2",
   "metadata": {},
   "source": [
    "22. Write a program to convert fahrenheit temperature into Celcius."
   ]
  },
  {
   "cell_type": "code",
   "execution_count": 43,
   "id": "0786bca3",
   "metadata": {},
   "outputs": [
    {
     "name": "stdout",
     "output_type": "stream",
     "text": [
      "Enter the value of temperature in fehrenheit :86\n",
      "Temperature in celcius :  30.0\n"
     ]
    }
   ],
   "source": [
    "t = int(input(\"Enter the value of temperature in fehrenheit :\"))\n",
    "c = (t - 32)*(5/9)\n",
    "print(\"Temperature in celcius : \",c)"
   ]
  },
  {
   "cell_type": "markdown",
   "id": "f46396a9",
   "metadata": {},
   "source": [
    "23. Write a program to find the gravitational force acting between two object."
   ]
  },
  {
   "cell_type": "code",
   "execution_count": 44,
   "id": "c80b481f",
   "metadata": {},
   "outputs": [
    {
     "name": "stdout",
     "output_type": "stream",
     "text": [
      "Enter the distance between the object : 5\n",
      "Enter the mass 1 : 5\n",
      "Enter the mass 2 : 10\n",
      "Gravitational force =  1.334e-10\n"
     ]
    }
   ],
   "source": [
    "r = int(input(\"Enter the distance between the object : \"))\n",
    "g = 6.67/(10**11)\n",
    "m1 = int(input(\"Enter the mass 1 : \"))\n",
    "m2 = int(input(\"Enter the mass 2 : \"))\n",
    "gf = (g*m1*m2)/(r**2)\n",
    "print(\"Gravitational force = \",gf)"
   ]
  },
  {
   "cell_type": "markdown",
   "id": "0a413767",
   "metadata": {},
   "source": [
    "24. Write a program to swap the values of two variables."
   ]
  },
  {
   "cell_type": "code",
   "execution_count": 45,
   "id": "d501c456",
   "metadata": {},
   "outputs": [
    {
     "name": "stdout",
     "output_type": "stream",
     "text": [
      "Enter value of a : 5\n",
      "Enter value of b : 8\n",
      "New value of a :  8\n",
      "New value of b :  5\n"
     ]
    }
   ],
   "source": [
    "a = int(input(\"Enter value of a : \"))\n",
    "b = int(input(\"Enter value of b : \"))\n",
    "c = a\n",
    "a = b\n",
    "b = c\n",
    "print(\"New value of a : \",a)\n",
    "print(\"New value of b : \",b)"
   ]
  },
  {
   "cell_type": "markdown",
   "id": "013f94dc",
   "metadata": {},
   "source": [
    "25."
   ]
  },
  {
   "cell_type": "markdown",
   "id": "cedae06b",
   "metadata": {},
   "source": [
    "26. Write a program to copy on variable into another using assignment operator."
   ]
  },
  {
   "cell_type": "code",
   "execution_count": 47,
   "id": "077d5fdc",
   "metadata": {},
   "outputs": [
    {
     "name": "stdout",
     "output_type": "stream",
     "text": [
      "Aditya\n"
     ]
    }
   ],
   "source": [
    "a = \"Aditya\"\n",
    "b = a\n",
    "print(b)"
   ]
  },
  {
   "cell_type": "markdown",
   "id": "5da56742",
   "metadata": {},
   "source": [
    "27. Write a program to perform modulo division on a=8, b=3"
   ]
  },
  {
   "cell_type": "code",
   "execution_count": 4,
   "id": "b2827b10",
   "metadata": {},
   "outputs": [
    {
     "name": "stdout",
     "output_type": "stream",
     "text": [
      "2\n"
     ]
    }
   ],
   "source": [
    "a = 8\n",
    "b = 3\n",
    "print(a%b) # modulo division (will print only remainder)"
   ]
  },
  {
   "cell_type": "markdown",
   "id": "25171f0e",
   "metadata": {},
   "source": [
    "28. Write a program to perform modulo division on a=-8, b=3"
   ]
  },
  {
   "cell_type": "code",
   "execution_count": 5,
   "id": "010b4d83",
   "metadata": {},
   "outputs": [
    {
     "name": "stdout",
     "output_type": "stream",
     "text": [
      "1\n"
     ]
    }
   ],
   "source": [
    "a = -8\n",
    "b = 3\n",
    "print(a%b) # modulo division (will print only remainder)"
   ]
  },
  {
   "cell_type": "markdown",
   "id": "79a05559",
   "metadata": {},
   "source": [
    "29. Write a program to perform modulo division on a=8, b=-3"
   ]
  },
  {
   "cell_type": "code",
   "execution_count": 7,
   "id": "5eb29a13",
   "metadata": {},
   "outputs": [
    {
     "name": "stdout",
     "output_type": "stream",
     "text": [
      "-1\n"
     ]
    }
   ],
   "source": [
    "a = 8\n",
    "b = -3\n",
    "print(a%b) # modulo division (will print only remainder)"
   ]
  },
  {
   "cell_type": "markdown",
   "id": "6d694d4d",
   "metadata": {},
   "source": [
    "30. Write a program to perform modulo division on a=-8, b=-3"
   ]
  },
  {
   "cell_type": "code",
   "execution_count": 9,
   "id": "0ab2be9d",
   "metadata": {},
   "outputs": [
    {
     "name": "stdout",
     "output_type": "stream",
     "text": [
      "-2\n"
     ]
    }
   ],
   "source": [
    "a = -8\n",
    "b = -3\n",
    "print(a%b) # modulo division (will print only remainder)"
   ]
  },
  {
   "cell_type": "markdown",
   "id": "4b73fb07",
   "metadata": {},
   "source": [
    "(31-36). Write a program to apply greater than,less than, greater than or equal to,less than or equal to, equal to, not equal to operator on a=8,b=3."
   ]
  },
  {
   "cell_type": "code",
   "execution_count": 10,
   "id": "34cd148b",
   "metadata": {},
   "outputs": [
    {
     "name": "stdout",
     "output_type": "stream",
     "text": [
      "8 > 3 = True\n",
      "8 < 3 = False\n",
      "8 >= 3 = True\n",
      "8 <= 3 = False\n",
      "8 == 3 = False\n",
      "8 != 3 = True\n"
     ]
    }
   ],
   "source": [
    "a = 8\n",
    "b = 3\n",
    "print(a,\">\",b,\"=\",a>b)\n",
    "print(a,\"<\",b,\"=\",a<b)\n",
    "print(a,\">=\",b,\"=\",a>=b)\n",
    "print(a,\"<=\",b,\"=\",a<=b)\n",
    "print(a,\"==\",b,\"=\",a==b)\n",
    "print(a,\"!=\",b,\"=\",a!=b)"
   ]
  },
  {
   "cell_type": "markdown",
   "id": "04dcf932",
   "metadata": {},
   "source": [
    "(37-39). Write a program to apply Logical operators (and, or, not) on an operand"
   ]
  },
  {
   "cell_type": "code",
   "execution_count": 3,
   "id": "4fdc65d9",
   "metadata": {},
   "outputs": [
    {
     "name": "stdout",
     "output_type": "stream",
     "text": [
      "Put either 1 or 0 in a and b \n",
      "1 means 'true' and 0 means 'false'.\n",
      "Enter first number : 1\n",
      "Enter second number : 1\n",
      "1\n",
      "1\n"
     ]
    }
   ],
   "source": [
    "print(\"Put either 1 or 0 in a and b \")\n",
    "print(\"1 means 'true' and 0 means 'false'.\")\n",
    "a = int(input(\"Enter first number : \"))\n",
    "b = int(input(\"Enter second number : \"))\n",
    "c = (a and b)\n",
    "d = (a or b)\n",
    "print(c)\n",
    "print(d)"
   ]
  },
  {
   "cell_type": "code",
   "execution_count": null,
   "id": "00496296",
   "metadata": {},
   "outputs": [],
   "source": []
  }
 ],
 "metadata": {
  "kernelspec": {
   "display_name": "Python 3 (ipykernel)",
   "language": "python",
   "name": "python3"
  },
  "language_info": {
   "codemirror_mode": {
    "name": "ipython",
    "version": 3
   },
   "file_extension": ".py",
   "mimetype": "text/x-python",
   "name": "python",
   "nbconvert_exporter": "python",
   "pygments_lexer": "ipython3",
   "version": "3.9.7"
  }
 },
 "nbformat": 4,
 "nbformat_minor": 5
}
