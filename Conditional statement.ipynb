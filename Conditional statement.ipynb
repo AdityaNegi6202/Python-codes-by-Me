{
 "cells": [
  {
   "cell_type": "markdown",
   "id": "3c0f7ebe",
   "metadata": {},
   "source": [
    "46. Write a program to find greatest between two numbers."
   ]
  },
  {
   "cell_type": "code",
   "execution_count": 2,
   "id": "cf0a136e",
   "metadata": {},
   "outputs": [
    {
     "name": "stdout",
     "output_type": "stream",
     "text": [
      "Enter first number : 7\n",
      "Enter second number : 9\n",
      "9  is the greatest number.\n"
     ]
    }
   ],
   "source": [
    "a = int(input(\"Enter first number : \"))\n",
    "b = int(input(\"Enter second number : \"))\n",
    "if a>b:\n",
    "    print(a,\" is the greatest number.\")\n",
    "else:\n",
    "    print(b,\" is the greatest number.\")"
   ]
  },
  {
   "cell_type": "markdown",
   "id": "b7a33d86",
   "metadata": {},
   "source": [
    "47. Write a program to accept two integers and check if they are equal."
   ]
  },
  {
   "cell_type": "code",
   "execution_count": 3,
   "id": "99e8ff97",
   "metadata": {},
   "outputs": [
    {
     "name": "stdout",
     "output_type": "stream",
     "text": [
      "Enter first number : 5\n",
      "Enter second number : 5\n",
      "Both numbers are equal.\n"
     ]
    }
   ],
   "source": [
    "a = int(input(\"Enter first number : \"))\n",
    "b = int(input(\"Enter second number : \"))\n",
    "if (a==b):\n",
    "    print(\"Both numbers are equal.\")\n",
    "else:\n",
    "    print(\"Both numbers are not equal.\")"
   ]
  },
  {
   "cell_type": "markdown",
   "id": "fe9627ec",
   "metadata": {},
   "source": [
    "48. Write a program to check if a given integer is positive or negative."
   ]
  },
  {
   "cell_type": "code",
   "execution_count": 5,
   "id": "73f3352e",
   "metadata": {},
   "outputs": [
    {
     "name": "stdout",
     "output_type": "stream",
     "text": [
      "Enter any number : -56\n",
      "The number is negative\n"
     ]
    }
   ],
   "source": [
    "a = int(input(\"Enter any number : \"))\n",
    "if a<0:\n",
    "    print(\"The number is negative\")\n",
    "else:\n",
    "    print(\"The number is positive\")"
   ]
  },
  {
   "cell_type": "markdown",
   "id": "f9486541",
   "metadata": {},
   "source": [
    "49. Write a program to check if a given integer is odd or even.\n"
   ]
  },
  {
   "cell_type": "code",
   "execution_count": 6,
   "id": "500f0e03",
   "metadata": {},
   "outputs": [
    {
     "name": "stdout",
     "output_type": "stream",
     "text": [
      "Enter any number : 5\n",
      "5 is an odd number.\n"
     ]
    }
   ],
   "source": [
    "n = int(input(\"Enter any number : \"))\n",
    "if n%2 == 0:\n",
    "    print(n,\"is an even number.\")\n",
    "else:\n",
    "    print(n,\"is an odd number.\")"
   ]
  },
  {
   "cell_type": "markdown",
   "id": "7bac4bd1",
   "metadata": {},
   "source": [
    "50. Write a program to check if a given integer is divisible by 5 or not."
   ]
  },
  {
   "cell_type": "code",
   "execution_count": 7,
   "id": "b2ac96ac",
   "metadata": {},
   "outputs": [
    {
     "name": "stdout",
     "output_type": "stream",
     "text": [
      "Enter any number : 4\n",
      "This number is not divisible by 5\n"
     ]
    }
   ],
   "source": [
    "a = int(input(\"Enter any number : \"))\n",
    "if a%5==0:\n",
    "    print(\"This number is divisible by 5\")\n",
    "else:\n",
    "    print(\"This number is not divisible by 5\")"
   ]
  },
  {
   "cell_type": "markdown",
   "id": "acd7e39e",
   "metadata": {},
   "source": [
    "51. Write a program to check if a given integer is divisible by 7 or not."
   ]
  },
  {
   "cell_type": "code",
   "execution_count": 8,
   "id": "4e154d34",
   "metadata": {},
   "outputs": [
    {
     "name": "stdout",
     "output_type": "stream",
     "text": [
      "Enter any number : 56\n",
      "This number is divisible by 7\n"
     ]
    }
   ],
   "source": [
    "a = int(input(\"Enter any number : \"))\n",
    "if a%7==0:\n",
    "    print(\"This number is divisible by 7\")\n",
    "else:\n",
    "    print(\"This number is not divisible by 7\")"
   ]
  },
  {
   "cell_type": "markdown",
   "id": "9714135a",
   "metadata": {},
   "source": [
    "53. Write a program to find the greatest of three numbers using else if ladder."
   ]
  },
  {
   "cell_type": "code",
   "execution_count": 19,
   "id": "3e05ab35",
   "metadata": {},
   "outputs": [
    {
     "name": "stdout",
     "output_type": "stream",
     "text": [
      "Enter the first number : 6\n",
      "Enter the second number : 8\n",
      "Enter the third number : 9\n",
      "9  is the greatest number.\n"
     ]
    }
   ],
   "source": [
    "a = int(input(\"Enter the first number : \"))\n",
    "b = int(input(\"Enter the second number : \"))\n",
    "c = int(input(\"Enter the third number : \"))\n",
    "if(a > b):\n",
    "    if (a>c):\n",
    "        print(a,\" is the greatest number.\")\n",
    "    else:\n",
    "        print(c,\" is the greatest number.\")\n",
    "elif(b>a):\n",
    "    if (b>c):\n",
    "        print(b,\" is the greatest number.\")\n",
    "    else:\n",
    "        print(c,\" is the greatest number.\")\n",
    "elif(a == b) and (a == c) and (b == c):\n",
    "    print(\"All numbers are same!\")"
   ]
  },
  {
   "cell_type": "markdown",
   "id": "7841e045",
   "metadata": {},
   "source": [
    "55. Write a program to convert an upper case character into lower case and vice-versa."
   ]
  },
  {
   "cell_type": "code",
   "execution_count": 23,
   "id": "b4f841b4",
   "metadata": {},
   "outputs": [
    {
     "name": "stdout",
     "output_type": "stream",
     "text": [
      "Enter any character or word : aditya\n",
      "ADITYA\n"
     ]
    }
   ],
   "source": [
    "a = input(\"Enter any character or word : \")\n",
    "if a.isupper(): # if this conditon becomes false, control will go to else statement.\n",
    "    print(a.lower())\n",
    "else:\n",
    "    print(a.upper())"
   ]
  },
  {
   "cell_type": "markdown",
   "id": "565c1631",
   "metadata": {},
   "source": [
    "56. Write a program to check whether an entered year is leap year or not."
   ]
  },
  {
   "cell_type": "markdown",
   "id": "3b1f9213",
   "metadata": {},
   "source": [
    "  57. Write a program to check whether an alphabet entered by the user is a vowel or a consonent."
   ]
  },
  {
   "cell_type": "code",
   "execution_count": 33,
   "id": "157f2b13",
   "metadata": {},
   "outputs": [
    {
     "name": "stdout",
     "output_type": "stream",
     "text": [
      "Enter any character : b\n",
      "Character entered is a consonent.\n"
     ]
    }
   ],
   "source": [
    "a = input(\"Enter any character : \")\n",
    "if (a==\"a\" or a==\"e\" or a==\"i\" or a==\"o\" or a==\"u\"):\n",
    "    print(\"Character entered is a vowel.\")\n",
    "else:\n",
    "    print(\"Character entered is a consonent.\")"
   ]
  },
  {
   "cell_type": "markdown",
   "id": "b3cc5eda",
   "metadata": {},
   "source": [
    "58. Write a program to read a coordinate point and determine its quadrant."
   ]
  },
  {
   "cell_type": "code",
   "execution_count": 35,
   "id": "138826d3",
   "metadata": {},
   "outputs": [
    {
     "name": "stdout",
     "output_type": "stream",
     "text": [
      "Enter the point's x-axis : 5\n",
      "Enter the point's y-axis: -4\n",
      "Point is in 4th quadrant.\n"
     ]
    }
   ],
   "source": [
    "x = int(input(\"Enter the point's x-axis : \"))\n",
    "y = int(input(\"Enter the point's y-axis: \"))\n",
    "if x>0:\n",
    "    if y>0:\n",
    "        print(\"Point is in 1st quadrant.\")\n",
    "    else:\n",
    "        print(\"Point is in 4th quadrant.\")\n",
    "elif x<0:\n",
    "    if y>0:\n",
    "        print(\"Point is in 2nd quadrant.\")\n",
    "    else:\n",
    "        print(\"Point is in 3rd quadrant.\")"
   ]
  },
  {
   "cell_type": "markdown",
   "id": "e306a986",
   "metadata": {},
   "source": [
    "59. Write a program to add two complex number."
   ]
  },
  {
   "cell_type": "markdown",
   "id": "64f912e8",
   "metadata": {},
   "source": [
    "60. Write a program to find the roots of a quadratic equation."
   ]
  },
  {
   "cell_type": "code",
   "execution_count": 10,
   "id": "8ba84dc2",
   "metadata": {},
   "outputs": [
    {
     "name": "stdout",
     "output_type": "stream",
     "text": [
      "Enter the value of a : 1\n",
      "Enter the value of b : 2\n",
      "Enter the value of c : -143\n",
      "Root 1 =  11.0\n",
      "Root 2 =  -13.0\n"
     ]
    }
   ],
   "source": [
    "a = int(input(\"Enter the value of a : \"))\n",
    "b = int(input(\"Enter the value of b : \"))\n",
    "c = int(input(\"Enter the value of c : \"))\n",
    "d = (b**2)-(4*a*c)\n",
    "r1 = (-b + (d**0.5))/(2*a)\n",
    "r2 = (-b - (d**0.5))/(2*a)\n",
    "print(\"Root 1 = \",r1)\n",
    "print(\"Root 2 = \",r2)"
   ]
  },
  {
   "cell_type": "markdown",
   "id": "83e88713",
   "metadata": {},
   "source": [
    "61. Write a program to print day according to the day number entered by the user."
   ]
  },
  {
   "cell_type": "code",
   "execution_count": 14,
   "id": "539658c3",
   "metadata": {},
   "outputs": [
    {
     "name": "stdout",
     "output_type": "stream",
     "text": [
      "Enter the day number : 5\n",
      "Thursday\n"
     ]
    }
   ],
   "source": [
    "a = int(input(\"Enter the day number : \"))\n",
    "if a==1: # don't write a==\"1\", because it will be taken as string.\n",
    "    print(\"Sunday\")\n",
    "elif a==2:# we need to write elif after if.\n",
    "    print(\"Monday\")\n",
    "elif a==3:\n",
    "    print(\"Tueday\")\n",
    "elif a==4:\n",
    "    print(\"Wednesday\")\n",
    "elif a==5:\n",
    "    print(\"Thursday\")\n",
    "elif a==6:\n",
    "    print(\"Friday\")\n",
    "elif a==7:\n",
    "    print(\"Saturday\")\n",
    "else:\n",
    "    print(\"Wrong input!\")"
   ]
  },
  {
   "cell_type": "markdown",
   "id": "f629162a",
   "metadata": {},
   "source": [
    "62. Write a program to print color name, if user enters the first letter of the color name."
   ]
  },
  {
   "cell_type": "code",
   "execution_count": 15,
   "id": "054940f5",
   "metadata": {},
   "outputs": [
    {
     "name": "stdout",
     "output_type": "stream",
     "text": [
      "Enter the first letter of color : B\n",
      "Black\n"
     ]
    }
   ],
   "source": [
    "c = input(\"Enter the first letter of color : \")\n",
    "if c==\"W\":\n",
    "    print(\"White\")\n",
    "elif c==\"B\":\n",
    "    print(\"Black\")\n",
    "elif c==\"v\":\n",
    "    print(\"Violet\")\n",
    "elif c==\"i\":\n",
    "    print(\"Indigo\")\n",
    "elif c==\"b\":\n",
    "    print(\"Blue\")\n",
    "elif c==\"g\":\n",
    "    print(\"Green\")\n",
    "elif c==\"y\":\n",
    "    print(\"Yellow\")\n",
    "elif c==\"o\":\n",
    "    print(\"Orange\")\n",
    "elif c==\"r\":\n",
    "    print(\"Red\")\n",
    "else:\n",
    "    print(\"Wrong input!\")\n"
   ]
  },
  {
   "cell_type": "markdown",
   "id": "be5dc97e",
   "metadata": {},
   "source": [
    "63. Write a program to simulate arithematic calculator."
   ]
  },
  {
   "cell_type": "code",
   "execution_count": 17,
   "id": "1a5f7834",
   "metadata": {},
   "outputs": [
    {
     "name": "stdout",
     "output_type": "stream",
     "text": [
      "Enter first number : 5\n",
      "Enter second number : 3\n",
      "What you want to do?\n",
      "1. Add(+)\n",
      "2. Substract(-)\n",
      "3. Multiply(*)\n",
      "4. Floor division(%)\n",
      "5. Modulas division(//)\n",
      "6. Normal division(/)\n",
      "7. a^b (^)\n",
      ">>> ^\n",
      "125\n"
     ]
    }
   ],
   "source": [
    "a = int(input(\"Enter first number : \"))\n",
    "b = int(input(\"Enter second number : \"))\n",
    "print('''What you want to do?\n",
    "1. Add(+)\n",
    "2. Substract(-)\n",
    "3. Multiply(*)\n",
    "4. Floor division(%)\n",
    "5. Modulas division(//)\n",
    "6. Normal division(/)\n",
    "7. a^b (^)''')\n",
    "c = input(\">>> \")\n",
    "if c==\"+\":\n",
    "      print(a+b)\n",
    "elif c==\"-\":\n",
    "      print(a-b)\n",
    "elif c==\"*\":\n",
    "      print(a*b)\n",
    "elif c==\"%\":\n",
    "      print(a%b)\n",
    "elif c==\"//\":\n",
    "      print(a//b)\n",
    "elif c==\"/\":\n",
    "      print(a/b)\n",
    "elif c==\"^\":\n",
    "      print(a**b)\n",
    "else:\n",
    "      print(\"Wrong input!\")\n",
    "      \n"
   ]
  },
  {
   "cell_type": "markdown",
   "id": "9aeae2cf",
   "metadata": {},
   "source": [
    "64. Write a menu driven program for calculating area of different geometrical figures such as circle, square, rectangle, and triangle."
   ]
  },
  {
   "cell_type": "code",
   "execution_count": 19,
   "id": "283e80b6",
   "metadata": {},
   "outputs": [
    {
     "name": "stdout",
     "output_type": "stream",
     "text": [
      "Shape: \n",
      "1. Circle\n",
      "2. Square\n",
      "3. Rectangle\n",
      "4. Triangle\n",
      ">>>1\n",
      "Enter the radius : 6\n",
      "Area of circle =  113.03999999999999\n"
     ]
    }
   ],
   "source": [
    "s = int(input('''Shape: \n",
    "1. Circle\n",
    "2. Square\n",
    "3. Rectangle\n",
    "4. Triangle\n",
    ">>>'''))\n",
    "if s == 1:\n",
    "    r = int(input(\"Enter the radius : \"))\n",
    "    print(\"Area of circle = \",3.14*r*r)\n",
    "elif s == 2:\n",
    "    s1 = int(input(\"Enter the length of side(in cm): \"))\n",
    "    print(\"Area of Square = \",s1*s1)\n",
    "elif s==3:\n",
    "    s2 = int(input(\"Enter the length of side(in cm): \"))\n",
    "    s3 = int(input(\"Enter the breadth of side(in cm): \"))\n",
    "    print(\"Area of Rectangle = \",s3*s2)\n",
    "elif s==4:\n",
    "    a = int(input(\"Enter the value of first side : \"))\n",
    "    b = int(input(\"Enter the value of second side : \"))\n",
    "    c = int(input(\"Enter the value of third side : \"))\n",
    "    sp = (a + b + c)/ 2 #semi-perimeter\n",
    "    area = ( sp*(sp-a)*(sp-b)*(sp-c) )**0.5\n",
    "    print(\"The area of scalene triangle is : \",area)\n",
    "else: \n",
    "    print(\"Wrong input!\")\n",
    "    \n",
    "    "
   ]
  },
  {
   "cell_type": "code",
   "execution_count": null,
   "id": "faec24e1",
   "metadata": {},
   "outputs": [],
   "source": []
  }
 ],
 "metadata": {
  "kernelspec": {
   "display_name": "Python 3 (ipykernel)",
   "language": "python",
   "name": "python3"
  },
  "language_info": {
   "codemirror_mode": {
    "name": "ipython",
    "version": 3
   },
   "file_extension": ".py",
   "mimetype": "text/x-python",
   "name": "python",
   "nbconvert_exporter": "python",
   "pygments_lexer": "ipython3",
   "version": "3.9.7"
  }
 },
 "nbformat": 4,
 "nbformat_minor": 5
}
